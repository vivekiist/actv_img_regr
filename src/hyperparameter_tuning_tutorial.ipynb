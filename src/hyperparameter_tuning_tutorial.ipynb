{
  "cells": [
    {
      "cell_type": "code",
      "execution_count": 1,
      "metadata": {
        "id": "dETWZa7PaIRQ"
      },
      "outputs": [],
      "source": [
        "# For tips on running notebooks in Google Colab, see\n",
        "# https://pytorch.org/tutorials/beginner/colab\n",
        "%matplotlib inline"
      ]
    },
    {
      "cell_type": "markdown",
      "metadata": {
        "id": "gVP4_3ypaIRR"
      },
      "source": [
        "Hyperparameter tuning with Ray Tune\n",
        "===================================\n",
        "\n",
        "Hyperparameter tuning can make the difference between an average model\n",
        "and a highly accurate one. Often simple things like choosing a different\n",
        "learning rate or changing a network layer size can have a dramatic\n",
        "impact on your model performance.\n",
        "\n",
        "Fortunately, there are tools that help with finding the best combination\n",
        "of parameters. [Ray Tune](https://docs.ray.io/en/latest/tune.html) is an\n",
        "industry standard tool for distributed hyperparameter tuning. Ray Tune\n",
        "includes the latest hyperparameter search algorithms, integrates with\n",
        "TensorBoard and other analysis libraries, and natively supports\n",
        "distributed training through [Ray\\'s distributed machine learning\n",
        "engine](https://ray.io/).\n",
        "\n",
        "In this tutorial, we will show you how to integrate Ray Tune into your\n",
        "PyTorch training workflow. We will extend [this tutorial from the\n",
        "PyTorch\n",
        "documentation](https://pytorch.org/tutorials/beginner/blitz/cifar10_tutorial.html)\n",
        "for training a CIFAR10 image classifier.\n",
        "\n",
        "As you will see, we only need to add some slight modifications. In\n",
        "particular, we need to\n",
        "\n",
        "1.  wrap data loading and training in functions,\n",
        "2.  make some network parameters configurable,\n",
        "3.  add checkpointing (optional),\n",
        "4.  and define the search space for the model tuning\n",
        "\n",
        "|\n",
        "\n",
        "To run this tutorial, please make sure the following packages are\n",
        "installed:\n",
        "\n",
        "-   `ray[tune]`: Distributed hyperparameter tuning library\n",
        "-   `torchvision`: For the data transformers\n",
        "\n",
        "Setup / Imports\n",
        "---------------\n",
        "\n",
        "Let\\'s start with the imports:\n"
      ]
    },
    {
      "cell_type": "code",
      "execution_count": 2,
      "metadata": {
        "colab": {
          "base_uri": "https://localhost:8080/"
        },
        "id": "q3omj5xobooH",
        "outputId": "59dd1981-1b51-4d98-920b-9262b3e49195"
      },
      "outputs": [
        {
          "name": "stdout",
          "output_type": "stream",
          "text": [
            "Defaulting to user installation because normal site-packages is not writeable\n",
            "Collecting ray\n",
            "  Downloading ray-2.23.0-cp310-cp310-manylinux2014_x86_64.whl.metadata (13 kB)\n",
            "Requirement already satisfied: click>=7.0 in /usr/lib/python3/dist-packages (from ray) (8.0.3)\n",
            "Requirement already satisfied: filelock in /usr/local/lib/python3.10/dist-packages (from ray) (3.10.7)\n",
            "Requirement already satisfied: jsonschema in /usr/local/lib/python3.10/dist-packages (from ray) (4.17.3)\n",
            "Requirement already satisfied: msgpack<2.0.0,>=1.0.0 in /usr/lib/python3/dist-packages (from ray) (1.0.3)\n",
            "Requirement already satisfied: packaging in /usr/local/lib/python3.10/dist-packages (from ray) (23.0)\n",
            "Collecting protobuf!=3.19.5,>=3.15.3 (from ray)\n",
            "  Downloading protobuf-5.27.0-cp38-abi3-manylinux2014_x86_64.whl.metadata (592 bytes)\n",
            "Requirement already satisfied: pyyaml in /usr/lib/python3/dist-packages (from ray) (5.4.1)\n",
            "Collecting aiosignal (from ray)\n",
            "  Using cached aiosignal-1.3.1-py3-none-any.whl.metadata (4.0 kB)\n",
            "Collecting frozenlist (from ray)\n",
            "  Using cached frozenlist-1.4.1-cp310-cp310-manylinux_2_5_x86_64.manylinux1_x86_64.manylinux_2_17_x86_64.manylinux2014_x86_64.whl.metadata (12 kB)\n",
            "Requirement already satisfied: requests in /usr/lib/python3/dist-packages (from ray) (2.25.1)\n",
            "Requirement already satisfied: attrs>=17.4.0 in /usr/local/lib/python3.10/dist-packages (from jsonschema->ray) (23.1.0)\n",
            "Requirement already satisfied: pyrsistent!=0.17.0,!=0.17.1,!=0.17.2,>=0.14.0 in /usr/local/lib/python3.10/dist-packages (from jsonschema->ray) (0.19.3)\n",
            "Downloading ray-2.23.0-cp310-cp310-manylinux2014_x86_64.whl (65.7 MB)\n",
            "\u001b[2K   \u001b[90m━━━━━━━━━━━━━━━━━━━━━━━━━━━━━━━━━━━━━━━━\u001b[0m \u001b[32m65.7/65.7 MB\u001b[0m \u001b[31m11.0 MB/s\u001b[0m eta \u001b[36m0:00:00\u001b[0m00:01\u001b[0m00:01\u001b[0m\n",
            "\u001b[?25hDownloading protobuf-5.27.0-cp38-abi3-manylinux2014_x86_64.whl (309 kB)\n",
            "\u001b[2K   \u001b[90m━━━━━━━━━━━━━━━━━━━━━━━━━━━━━━━━━━━━━━━━\u001b[0m \u001b[32m309.2/309.2 kB\u001b[0m \u001b[31m24.1 MB/s\u001b[0m eta \u001b[36m0:00:00\u001b[0m\n",
            "\u001b[?25hUsing cached aiosignal-1.3.1-py3-none-any.whl (7.6 kB)\n",
            "Using cached frozenlist-1.4.1-cp310-cp310-manylinux_2_5_x86_64.manylinux1_x86_64.manylinux_2_17_x86_64.manylinux2014_x86_64.whl (239 kB)\n",
            "\u001b[33mDEPRECATION: flatbuffers 1.12.1-git20200711.33e2d80-dfsg1-0.6 has a non-standard version number. pip 24.1 will enforce this behaviour change. A possible replacement is to upgrade to a newer version of flatbuffers or contact the author to suggest that they release a version with a conforming version number. Discussion can be found at https://github.com/pypa/pip/issues/12063\u001b[0m\u001b[33m\n",
            "\u001b[0mInstalling collected packages: protobuf, frozenlist, aiosignal, ray\n",
            "Successfully installed aiosignal-1.3.1 frozenlist-1.4.1 protobuf-5.27.0 ray-2.23.0\n"
          ]
        }
      ],
      "source": [
        "!pip install ray"
      ]
    },
    {
      "cell_type": "code",
      "execution_count": 3,
      "metadata": {
        "id": "Z3O2vzWRaIRU"
      },
      "outputs": [
        {
          "name": "stderr",
          "output_type": "stream",
          "text": [
            "/users/mtech/vivekg/actv_img_regr/.venv/lib/python3.10/site-packages/tqdm/auto.py:21: TqdmWarning: IProgress not found. Please update jupyter and ipywidgets. See https://ipywidgets.readthedocs.io/en/stable/user_install.html\n",
            "  from .autonotebook import tqdm as notebook_tqdm\n",
            "2024-05-23 22:57:15,830\tINFO util.py:154 -- Missing packages: ['ipywidgets']. Run `pip install -U ipywidgets`, then restart the notebook server for rich notebook output.\n",
            "2024-05-23 22:57:16,945\tINFO util.py:154 -- Missing packages: ['ipywidgets']. Run `pip install -U ipywidgets`, then restart the notebook server for rich notebook output.\n"
          ]
        }
      ],
      "source": [
        "from functools import partial\n",
        "import os\n",
        "import tempfile\n",
        "from pathlib import Path\n",
        "import torch\n",
        "import torch.nn as nn\n",
        "import torch.nn.functional as F\n",
        "import torch.optim as optim\n",
        "from torch.utils.data import random_split\n",
        "import torchvision\n",
        "import torchvision.transforms as transforms\n",
        "from ray import tune\n",
        "from ray import train\n",
        "from ray.train import Checkpoint, get_checkpoint\n",
        "from ray.tune.schedulers import ASHAScheduler\n",
        "import ray.cloudpickle as pickle"
      ]
    },
    {
      "cell_type": "markdown",
      "metadata": {
        "id": "ZKoIClZtaIRU"
      },
      "source": [
        "Most of the imports are needed for building the PyTorch model. Only the\n",
        "last imports are for Ray Tune.\n",
        "\n",
        "Data loaders\n",
        "============\n",
        "\n",
        "We wrap the data loaders in their own function and pass a global data\n",
        "directory. This way we can share a data directory between different\n",
        "trials.\n"
      ]
    },
    {
      "cell_type": "code",
      "execution_count": 4,
      "metadata": {
        "id": "rtBLnANRaIRV"
      },
      "outputs": [],
      "source": [
        "def load_data(data_dir=\"./data\"):\n",
        "    transform = transforms.Compose(\n",
        "        [transforms.ToTensor(), transforms.Normalize((0.5, 0.5, 0.5), (0.5, 0.5, 0.5))]\n",
        "    )\n",
        "\n",
        "    trainset = torchvision.datasets.CIFAR10(\n",
        "        root=data_dir, train=True, download=True, transform=transform\n",
        "    )\n",
        "\n",
        "    testset = torchvision.datasets.CIFAR10(\n",
        "        root=data_dir, train=False, download=True, transform=transform\n",
        "    )\n",
        "\n",
        "    return trainset, testset"
      ]
    },
    {
      "cell_type": "markdown",
      "metadata": {
        "id": "brv9fNd_aIRW"
      },
      "source": [
        "Configurable neural network\n",
        "===========================\n",
        "\n",
        "We can only tune those parameters that are configurable. In this\n",
        "example, we can specify the layer sizes of the fully connected layers:\n"
      ]
    },
    {
      "cell_type": "code",
      "execution_count": 5,
      "metadata": {
        "id": "wEuuzOBWaIRX"
      },
      "outputs": [],
      "source": [
        "class Net(nn.Module):\n",
        "    def __init__(self, l1=120, l2=84):\n",
        "        super(Net, self).__init__()\n",
        "        self.conv1 = nn.Conv2d(3, 6, 5)\n",
        "        self.pool = nn.MaxPool2d(2, 2)\n",
        "        self.conv2 = nn.Conv2d(6, 16, 5)\n",
        "        self.fc1 = nn.Linear(16 * 5 * 5, l1)\n",
        "        self.fc2 = nn.Linear(l1, l2)\n",
        "        self.fc3 = nn.Linear(l2, 10)\n",
        "\n",
        "    def forward(self, x):\n",
        "        x = self.pool(F.relu(self.conv1(x)))\n",
        "        x = self.pool(F.relu(self.conv2(x)))\n",
        "        x = torch.flatten(x, 1)  # flatten all dimensions except batch\n",
        "        x = F.relu(self.fc1(x))\n",
        "        x = F.relu(self.fc2(x))\n",
        "        x = self.fc3(x)\n",
        "        return x"
      ]
    },
    {
      "cell_type": "markdown",
      "metadata": {
        "id": "AsT7wPuiaIRY"
      },
      "source": [
        "The train function\n",
        "==================\n",
        "\n",
        "Now it gets interesting, because we introduce some changes to the\n",
        "example [from the PyTorch\n",
        "documentation](https://pytorch.org/tutorials/beginner/blitz/cifar10_tutorial.html).\n",
        "\n",
        "We wrap the training script in a function\n",
        "`train_cifar(config, data_dir=None)`. The `config` parameter will\n",
        "receive the hyperparameters we would like to train with. The `data_dir`\n",
        "specifies the directory where we load and store the data, so that\n",
        "multiple runs can share the same data source. We also load the model and\n",
        "optimizer state at the start of the run, if a checkpoint is provided.\n",
        "Further down in this tutorial you will find information on how to save\n",
        "the checkpoint and what it is used for.\n",
        "\n",
        "``` {.sourceCode .python}\n",
        "net = Net(config[\"l1\"], config[\"l2\"])\n",
        "\n",
        "checkpoint = get_checkpoint()\n",
        "if checkpoint:\n",
        "    with checkpoint.as_directory() as checkpoint_dir:\n",
        "        data_path = Path(checkpoint_dir) / \"data.pkl\"\n",
        "        with open(data_path, \"rb\") as fp:\n",
        "            checkpoint_state = pickle.load(fp)\n",
        "        start_epoch = checkpoint_state[\"epoch\"]\n",
        "        net.load_state_dict(checkpoint_state[\"net_state_dict\"])\n",
        "        optimizer.load_state_dict(checkpoint_state[\"optimizer_state_dict\"])\n",
        "else:\n",
        "    start_epoch = 0\n",
        "```\n",
        "\n",
        "The learning rate of the optimizer is made configurable, too:\n",
        "\n",
        "``` {.sourceCode .python}\n",
        "optimizer = optim.SGD(net.parameters(), lr=config[\"lr\"], momentum=0.9)\n",
        "```\n",
        "\n",
        "We also split the training data into a training and validation subset.\n",
        "We thus train on 80% of the data and calculate the validation loss on\n",
        "the remaining 20%. The batch sizes with which we iterate through the\n",
        "training and test sets are configurable as well.\n",
        "\n",
        "Adding (multi) GPU support with DataParallel\n",
        "--------------------------------------------\n",
        "\n",
        "Image classification benefits largely from GPUs. Luckily, we can\n",
        "continue to use PyTorch\\'s abstractions in Ray Tune. Thus, we can wrap\n",
        "our model in `nn.DataParallel` to support data parallel training on\n",
        "multiple GPUs:\n",
        "\n",
        "``` {.sourceCode .python}\n",
        "device = \"cpu\"\n",
        "if torch.cuda.is_available():\n",
        "    device = \"cuda:0\"\n",
        "    if torch.cuda.device_count() > 1:\n",
        "        net = nn.DataParallel(net)\n",
        "net.to(device)\n",
        "```\n",
        "\n",
        "By using a `device` variable we make sure that training also works when\n",
        "we have no GPUs available. PyTorch requires us to send our data to the\n",
        "GPU memory explicitly, like this:\n",
        "\n",
        "``` {.sourceCode .python}\n",
        "for i, data in enumerate(trainloader, 0):\n",
        "    inputs, labels = data\n",
        "    inputs, labels = inputs.to(device), labels.to(device)\n",
        "```\n",
        "\n",
        "The code now supports training on CPUs, on a single GPU, and on multiple\n",
        "GPUs. Notably, Ray also supports [fractional\n",
        "GPUs](https://docs.ray.io/en/master/using-ray-with-gpus.html#fractional-gpus)\n",
        "so we can share GPUs among trials, as long as the model still fits on\n",
        "the GPU memory. We\\'ll come back to that later.\n",
        "\n",
        "Communicating with Ray Tune\n",
        "---------------------------\n",
        "\n",
        "The most interesting part is the communication with Ray Tune:\n",
        "\n",
        "``` {.sourceCode .python}\n",
        "checkpoint_data = {\n",
        "    \"epoch\": epoch,\n",
        "    \"net_state_dict\": net.state_dict(),\n",
        "    \"optimizer_state_dict\": optimizer.state_dict(),\n",
        "}\n",
        "with tempfile.TemporaryDirectory() as checkpoint_dir:\n",
        "    data_path = Path(checkpoint_dir) / \"data.pkl\"\n",
        "    with open(data_path, \"wb\") as fp:\n",
        "        pickle.dump(checkpoint_data, fp)\n",
        "\n",
        "    checkpoint = Checkpoint.from_directory(checkpoint_dir)\n",
        "    train.report(\n",
        "        {\"loss\": val_loss / val_steps, \"accuracy\": correct / total},\n",
        "        checkpoint=checkpoint,\n",
        "    )\n",
        "```\n",
        "\n",
        "Here we first save a checkpoint and then report some metrics back to Ray\n",
        "Tune. Specifically, we send the validation loss and accuracy back to Ray\n",
        "Tune. Ray Tune can then use these metrics to decide which hyperparameter\n",
        "configuration lead to the best results. These metrics can also be used\n",
        "to stop bad performing trials early in order to avoid wasting resources\n",
        "on those trials.\n",
        "\n",
        "The checkpoint saving is optional, however, it is necessary if we wanted\n",
        "to use advanced schedulers like [Population Based\n",
        "Training](https://docs.ray.io/en/latest/tune/examples/pbt_guide.html).\n",
        "Also, by saving the checkpoint we can later load the trained models and\n",
        "validate them on a test set. Lastly, saving checkpoints is useful for\n",
        "fault tolerance, and it allows us to interrupt training and continue\n",
        "training later.\n",
        "\n",
        "Full training function\n",
        "----------------------\n",
        "\n",
        "The full code example looks like this:\n"
      ]
    },
    {
      "cell_type": "code",
      "execution_count": 6,
      "metadata": {
        "id": "GvasbdxdaIRZ"
      },
      "outputs": [],
      "source": [
        "def train_cifar(config, data_dir=None):\n",
        "    net = Net(config[\"l1\"], config[\"l2\"])\n",
        "\n",
        "    device = \"cpu\"\n",
        "    if torch.cuda.is_available():\n",
        "        device = \"cuda:0\"\n",
        "        if torch.cuda.device_count() > 1:\n",
        "            net = nn.DataParallel(net)\n",
        "    net.to(device)\n",
        "\n",
        "    criterion = nn.CrossEntropyLoss()\n",
        "    optimizer = optim.SGD(net.parameters(), lr=config[\"lr\"], momentum=0.9)\n",
        "\n",
        "    checkpoint = get_checkpoint()\n",
        "    if checkpoint:\n",
        "        with checkpoint.as_directory() as checkpoint_dir:\n",
        "            data_path = Path(checkpoint_dir) / \"data.pkl\"\n",
        "            with open(data_path, \"rb\") as fp:\n",
        "                checkpoint_state = pickle.load(fp)\n",
        "            start_epoch = checkpoint_state[\"epoch\"]\n",
        "            net.load_state_dict(checkpoint_state[\"net_state_dict\"])\n",
        "            optimizer.load_state_dict(checkpoint_state[\"optimizer_state_dict\"])\n",
        "    else:\n",
        "        start_epoch = 0\n",
        "\n",
        "    trainset, testset = load_data(data_dir)\n",
        "\n",
        "    test_abs = int(len(trainset) * 0.8)\n",
        "    train_subset, val_subset = random_split(\n",
        "        trainset, [test_abs, len(trainset) - test_abs]\n",
        "    )\n",
        "\n",
        "    trainloader = torch.utils.data.DataLoader(\n",
        "        train_subset, batch_size=int(config[\"batch_size\"]), shuffle=True, num_workers=8\n",
        "    )\n",
        "    valloader = torch.utils.data.DataLoader(\n",
        "        val_subset, batch_size=int(config[\"batch_size\"]), shuffle=True, num_workers=8\n",
        "    )\n",
        "\n",
        "    for epoch in range(start_epoch, 10):  # loop over the dataset multiple times\n",
        "        running_loss = 0.0\n",
        "        epoch_steps = 0\n",
        "        for i, data in enumerate(trainloader, 0):\n",
        "            # get the inputs; data is a list of [inputs, labels]\n",
        "            inputs, labels = data\n",
        "            inputs, labels = inputs.to(device), labels.to(device)\n",
        "\n",
        "            # zero the parameter gradients\n",
        "            optimizer.zero_grad()\n",
        "\n",
        "            # forward + backward + optimize\n",
        "            outputs = net(inputs)\n",
        "            loss = criterion(outputs, labels)\n",
        "            loss.backward()\n",
        "            optimizer.step()\n",
        "\n",
        "            # print statistics\n",
        "            running_loss += loss.item()\n",
        "            epoch_steps += 1\n",
        "            if i % 2000 == 1999:  # print every 2000 mini-batches\n",
        "                print(\n",
        "                    \"[%d, %5d] loss: %.3f\"\n",
        "                    % (epoch + 1, i + 1, running_loss / epoch_steps)\n",
        "                )\n",
        "                running_loss = 0.0\n",
        "\n",
        "        # Validation loss\n",
        "        val_loss = 0.0\n",
        "        val_steps = 0\n",
        "        total = 0\n",
        "        correct = 0\n",
        "        for i, data in enumerate(valloader, 0):\n",
        "            with torch.no_grad():\n",
        "                inputs, labels = data\n",
        "                inputs, labels = inputs.to(device), labels.to(device)\n",
        "\n",
        "                outputs = net(inputs)\n",
        "                _, predicted = torch.max(outputs.data, 1)\n",
        "                total += labels.size(0)\n",
        "                correct += (predicted == labels).sum().item()\n",
        "\n",
        "                loss = criterion(outputs, labels)\n",
        "                val_loss += loss.cpu().numpy()\n",
        "                val_steps += 1\n",
        "\n",
        "        checkpoint_data = {\n",
        "            \"epoch\": epoch,\n",
        "            \"net_state_dict\": net.state_dict(),\n",
        "            \"optimizer_state_dict\": optimizer.state_dict(),\n",
        "        }\n",
        "        with tempfile.TemporaryDirectory() as checkpoint_dir:\n",
        "            data_path = Path(checkpoint_dir) / \"data.pkl\"\n",
        "            with open(data_path, \"wb\") as fp:\n",
        "                pickle.dump(checkpoint_data, fp)\n",
        "\n",
        "            checkpoint = Checkpoint.from_directory(checkpoint_dir)\n",
        "            train.report(\n",
        "                {\"loss\": val_loss / val_steps, \"accuracy\": correct / total},\n",
        "                checkpoint=checkpoint,\n",
        "            )\n",
        "\n",
        "    print(\"Finished Training\")"
      ]
    },
    {
      "cell_type": "markdown",
      "metadata": {
        "id": "uI2jnLcuaIRb"
      },
      "source": [
        "As you can see, most of the code is adapted directly from the original\n",
        "example.\n",
        "\n",
        "Test set accuracy\n",
        "=================\n",
        "\n",
        "Commonly the performance of a machine learning model is tested on a\n",
        "hold-out test set with data that has not been used for training the\n",
        "model. We also wrap this in a function:\n"
      ]
    },
    {
      "cell_type": "code",
      "execution_count": 7,
      "metadata": {
        "id": "FO9f4remaIRc"
      },
      "outputs": [],
      "source": [
        "def test_accuracy(net, device=\"cpu\"):\n",
        "    trainset, testset = load_data()\n",
        "\n",
        "    testloader = torch.utils.data.DataLoader(\n",
        "        testset, batch_size=4, shuffle=False, num_workers=2\n",
        "    )\n",
        "\n",
        "    correct = 0\n",
        "    total = 0\n",
        "    with torch.no_grad():\n",
        "        for data in testloader:\n",
        "            images, labels = data\n",
        "            images, labels = images.to(device), labels.to(device)\n",
        "            outputs = net(images)\n",
        "            _, predicted = torch.max(outputs.data, 1)\n",
        "            total += labels.size(0)\n",
        "            correct += (predicted == labels).sum().item()\n",
        "\n",
        "    return correct / total"
      ]
    },
    {
      "cell_type": "markdown",
      "metadata": {
        "id": "Hi0AzHsxaIRd"
      },
      "source": [
        "The function also expects a `device` parameter, so we can do the test\n",
        "set validation on a GPU.\n",
        "\n",
        "Configuring the search space\n",
        "============================\n",
        "\n",
        "Lastly, we need to define Ray Tune\\'s search space. Here is an example:\n",
        "\n",
        "``` {.sourceCode .python}\n",
        "config = {\n",
        "    \"l1\": tune.choice([2 ** i for i in range(9)]),\n",
        "    \"l2\": tune.choice([2 ** i for i in range(9)]),\n",
        "    \"lr\": tune.loguniform(1e-4, 1e-1),\n",
        "    \"batch_size\": tune.choice([2, 4, 8, 16])\n",
        "}\n",
        "```\n",
        "\n",
        "The `tune.choice()` accepts a list of values that are uniformly sampled\n",
        "from. In this example, the `l1` and `l2` parameters should be powers of\n",
        "2 between 4 and 256, so either 4, 8, 16, 32, 64, 128, or 256. The `lr`\n",
        "(learning rate) should be uniformly sampled between 0.0001 and 0.1.\n",
        "Lastly, the batch size is a choice between 2, 4, 8, and 16.\n",
        "\n",
        "At each trial, Ray Tune will now randomly sample a combination of\n",
        "parameters from these search spaces. It will then train a number of\n",
        "models in parallel and find the best performing one among these. We also\n",
        "use the `ASHAScheduler` which will terminate bad performing trials\n",
        "early.\n",
        "\n",
        "We wrap the `train_cifar` function with `functools.partial` to set the\n",
        "constant `data_dir` parameter. We can also tell Ray Tune what resources\n",
        "should be available for each trial:\n",
        "\n",
        "``` {.sourceCode .python}\n",
        "gpus_per_trial = 2\n",
        "# ...\n",
        "result = tune.run(\n",
        "    partial(train_cifar, data_dir=data_dir),\n",
        "    resources_per_trial={\"cpu\": 8, \"gpu\": gpus_per_trial},\n",
        "    config=config,\n",
        "    num_samples=num_samples,\n",
        "    scheduler=scheduler,\n",
        "    checkpoint_at_end=True)\n",
        "```\n",
        "\n",
        "You can specify the number of CPUs, which are then available e.g. to\n",
        "increase the `num_workers` of the PyTorch `DataLoader` instances. The\n",
        "selected number of GPUs are made visible to PyTorch in each trial.\n",
        "Trials do not have access to GPUs that haven\\'t been requested for them\n",
        "- so you don\\'t have to care about two trials using the same set of\n",
        "resources.\n",
        "\n",
        "Here we can also specify fractional GPUs, so something like\n",
        "`gpus_per_trial=0.5` is completely valid. The trials will then share\n",
        "GPUs among each other. You just have to make sure that the models still\n",
        "fit in the GPU memory.\n",
        "\n",
        "After training the models, we will find the best performing one and load\n",
        "the trained network from the checkpoint file. We then obtain the test\n",
        "set accuracy and report everything by printing.\n",
        "\n",
        "The full main function looks like this:\n"
      ]
    },
    {
      "cell_type": "code",
      "execution_count": 8,
      "metadata": {
        "id": "RPRLC5U3aIRd"
      },
      "outputs": [
        {
          "name": "stdout",
          "output_type": "stream",
          "text": [
            "Downloading https://www.cs.toronto.edu/~kriz/cifar-10-python.tar.gz to /users/mtech/vivekg/actv_img_regr/src/data/cifar-10-python.tar.gz\n"
          ]
        },
        {
          "name": "stderr",
          "output_type": "stream",
          "text": [
            "100%|██████████| 170498071/170498071 [00:22<00:00, 7722700.87it/s]\n"
          ]
        },
        {
          "name": "stdout",
          "output_type": "stream",
          "text": [
            "Extracting /users/mtech/vivekg/actv_img_regr/src/data/cifar-10-python.tar.gz to /users/mtech/vivekg/actv_img_regr/src/data\n",
            "Files already downloaded and verified\n"
          ]
        },
        {
          "name": "stderr",
          "output_type": "stream",
          "text": [
            "2024-05-23 22:58:09,406\tINFO worker.py:1749 -- Started a local Ray instance.\n",
            "2024-05-23 22:58:10,769\tINFO tune.py:253 -- Initializing Ray automatically. For cluster usage or custom Ray initialization, call `ray.init(...)` before `tune.run(...)`.\n",
            "2024-05-23 22:58:10,774\tINFO tune.py:614 -- [output] This uses the legacy output and progress reporter, as Jupyter notebooks are not supported by the new engine, yet. For more information, please see https://github.com/ray-project/ray/issues/36949\n"
          ]
        },
        {
          "data": {
            "text/html": [
              "<div class=\"tuneStatus\">\n",
              "  <div style=\"display: flex;flex-direction: row\">\n",
              "    <div style=\"display: flex;flex-direction: column;\">\n",
              "      <h3>Tune Status</h3>\n",
              "      <table>\n",
              "<tbody>\n",
              "<tr><td>Current time:</td><td>2024-05-23 23:16:10</td></tr>\n",
              "<tr><td>Running for: </td><td>00:17:59.29        </td></tr>\n",
              "<tr><td>Memory:      </td><td>32.5/125.5 GiB     </td></tr>\n",
              "</tbody>\n",
              "</table>\n",
              "    </div>\n",
              "    <div class=\"vDivider\"></div>\n",
              "    <div class=\"systemInfo\">\n",
              "      <h3>System Info</h3>\n",
              "      Using AsyncHyperBand: num_stopped=10<br>Bracket: Iter 8.000: -1.5694547170639037 | Iter 4.000: -1.7031046951770783 | Iter 2.000: -1.8571134831666947 | Iter 1.000: -2.300757183074951<br>Logical resource usage: 2.0/32 CPUs, 0.0625/1 GPUs (0.0/1.0 accelerator_type:A40)\n",
              "    </div>\n",
              "    \n",
              "  </div>\n",
              "  <div class=\"hDivider\"></div>\n",
              "  <div class=\"trialStatus\">\n",
              "    <h3>Trial Status</h3>\n",
              "    <table>\n",
              "<thead>\n",
              "<tr><th>Trial name             </th><th>status    </th><th>loc                </th><th style=\"text-align: right;\">  batch_size</th><th style=\"text-align: right;\">  l1</th><th style=\"text-align: right;\">  l2</th><th style=\"text-align: right;\">         lr</th><th style=\"text-align: right;\">  iter</th><th style=\"text-align: right;\">  total time (s)</th><th style=\"text-align: right;\">   loss</th><th style=\"text-align: right;\">  accuracy</th></tr>\n",
              "</thead>\n",
              "<tbody>\n",
              "<tr><td>train_cifar_d3d5a_00000</td><td>TERMINATED</td><td>172.27.16.72:299448</td><td style=\"text-align: right;\">          16</td><td style=\"text-align: right;\">  64</td><td style=\"text-align: right;\">   1</td><td style=\"text-align: right;\">0.000154531</td><td style=\"text-align: right;\">     1</td><td style=\"text-align: right;\">         28.7658</td><td style=\"text-align: right;\">2.35161</td><td style=\"text-align: right;\">    0.1075</td></tr>\n",
              "<tr><td>train_cifar_d3d5a_00001</td><td>TERMINATED</td><td>172.27.16.72:299456</td><td style=\"text-align: right;\">          16</td><td style=\"text-align: right;\">  16</td><td style=\"text-align: right;\">   2</td><td style=\"text-align: right;\">0.00254268 </td><td style=\"text-align: right;\">     2</td><td style=\"text-align: right;\">         50.8533</td><td style=\"text-align: right;\">2.3032 </td><td style=\"text-align: right;\">    0.0945</td></tr>\n",
              "<tr><td>train_cifar_d3d5a_00002</td><td>TERMINATED</td><td>172.27.16.72:299463</td><td style=\"text-align: right;\">           8</td><td style=\"text-align: right;\">   2</td><td style=\"text-align: right;\">   8</td><td style=\"text-align: right;\">0.00195059 </td><td style=\"text-align: right;\">    10</td><td style=\"text-align: right;\">        289.812 </td><td style=\"text-align: right;\">1.54357</td><td style=\"text-align: right;\">    0.4022</td></tr>\n",
              "<tr><td>train_cifar_d3d5a_00003</td><td>TERMINATED</td><td>172.27.16.72:299465</td><td style=\"text-align: right;\">           2</td><td style=\"text-align: right;\"> 256</td><td style=\"text-align: right;\">   8</td><td style=\"text-align: right;\">0.0425631  </td><td style=\"text-align: right;\">     1</td><td style=\"text-align: right;\">        147.016 </td><td style=\"text-align: right;\">2.33421</td><td style=\"text-align: right;\">    0.0949</td></tr>\n",
              "<tr><td>train_cifar_d3d5a_00004</td><td>TERMINATED</td><td>172.27.16.72:299466</td><td style=\"text-align: right;\">           4</td><td style=\"text-align: right;\"> 128</td><td style=\"text-align: right;\">   1</td><td style=\"text-align: right;\">0.000503694</td><td style=\"text-align: right;\">     8</td><td style=\"text-align: right;\">        469.301 </td><td style=\"text-align: right;\">1.80375</td><td style=\"text-align: right;\">    0.2721</td></tr>\n",
              "<tr><td>train_cifar_d3d5a_00005</td><td>TERMINATED</td><td>172.27.16.72:299467</td><td style=\"text-align: right;\">           4</td><td style=\"text-align: right;\">   8</td><td style=\"text-align: right;\">  16</td><td style=\"text-align: right;\">0.0203739  </td><td style=\"text-align: right;\">     1</td><td style=\"text-align: right;\">         85.8142</td><td style=\"text-align: right;\">2.31526</td><td style=\"text-align: right;\">    0.0991</td></tr>\n",
              "<tr><td>train_cifar_d3d5a_00006</td><td>TERMINATED</td><td>172.27.16.72:299468</td><td style=\"text-align: right;\">           2</td><td style=\"text-align: right;\">   8</td><td style=\"text-align: right;\">  32</td><td style=\"text-align: right;\">0.000649382</td><td style=\"text-align: right;\">    10</td><td style=\"text-align: right;\">       1071.67  </td><td style=\"text-align: right;\">1.22895</td><td style=\"text-align: right;\">    0.572 </td></tr>\n",
              "<tr><td>train_cifar_d3d5a_00007</td><td>TERMINATED</td><td>172.27.16.72:299469</td><td style=\"text-align: right;\">           2</td><td style=\"text-align: right;\">   2</td><td style=\"text-align: right;\">  64</td><td style=\"text-align: right;\">0.000235573</td><td style=\"text-align: right;\">    10</td><td style=\"text-align: right;\">       1065.32  </td><td style=\"text-align: right;\">1.5564 </td><td style=\"text-align: right;\">    0.4006</td></tr>\n",
              "<tr><td>train_cifar_d3d5a_00008</td><td>TERMINATED</td><td>172.27.16.72:299470</td><td style=\"text-align: right;\">          16</td><td style=\"text-align: right;\"> 256</td><td style=\"text-align: right;\">   8</td><td style=\"text-align: right;\">0.000119393</td><td style=\"text-align: right;\">    10</td><td style=\"text-align: right;\">        172.111 </td><td style=\"text-align: right;\">1.64376</td><td style=\"text-align: right;\">    0.3934</td></tr>\n",
              "<tr><td>train_cifar_d3d5a_00009</td><td>TERMINATED</td><td>172.27.16.72:299471</td><td style=\"text-align: right;\">           2</td><td style=\"text-align: right;\">  32</td><td style=\"text-align: right;\">   1</td><td style=\"text-align: right;\">0.0418284  </td><td style=\"text-align: right;\">     1</td><td style=\"text-align: right;\">        146.255 </td><td style=\"text-align: right;\">2.32563</td><td style=\"text-align: right;\">    0.1046</td></tr>\n",
              "</tbody>\n",
              "</table>\n",
              "  </div>\n",
              "</div>\n",
              "<style>\n",
              ".tuneStatus {\n",
              "  color: var(--jp-ui-font-color1);\n",
              "}\n",
              ".tuneStatus .systemInfo {\n",
              "  display: flex;\n",
              "  flex-direction: column;\n",
              "}\n",
              ".tuneStatus td {\n",
              "  white-space: nowrap;\n",
              "}\n",
              ".tuneStatus .trialStatus {\n",
              "  display: flex;\n",
              "  flex-direction: column;\n",
              "}\n",
              ".tuneStatus h3 {\n",
              "  font-weight: bold;\n",
              "}\n",
              ".tuneStatus .hDivider {\n",
              "  border-bottom-width: var(--jp-border-width);\n",
              "  border-bottom-color: var(--jp-border-color0);\n",
              "  border-bottom-style: solid;\n",
              "}\n",
              ".tuneStatus .vDivider {\n",
              "  border-left-width: var(--jp-border-width);\n",
              "  border-left-color: var(--jp-border-color0);\n",
              "  border-left-style: solid;\n",
              "  margin: 0.5em 1em 0.5em 1em;\n",
              "}\n",
              "</style>\n"
            ],
            "text/plain": [
              "<IPython.core.display.HTML object>"
            ]
          },
          "metadata": {},
          "output_type": "display_data"
        },
        {
          "name": "stdout",
          "output_type": "stream",
          "text": [
            "\u001b[36m(func pid=299466)\u001b[0m Files already downloaded and verified\n",
            "\u001b[36m(func pid=299470)\u001b[0m [1,  2000] loss: 2.307\n",
            "\u001b[36m(func pid=299463)\u001b[0m Files already downloaded and verified\u001b[32m [repeated 19x across cluster] (Ray deduplicates logs by default. Set RAY_DEDUP_LOGS=0 to disable log deduplication, or see https://docs.ray.io/en/master/ray-observability/user-guides/configure-logging.html#log-deduplication for more options.)\u001b[0m\n"
          ]
        },
        {
          "data": {
            "text/html": [
              "<div class=\"trialProgress\">\n",
              "  <h3>Trial Progress</h3>\n",
              "  <table>\n",
              "<thead>\n",
              "<tr><th>Trial name             </th><th style=\"text-align: right;\">  accuracy</th><th style=\"text-align: right;\">   loss</th><th>should_checkpoint  </th></tr>\n",
              "</thead>\n",
              "<tbody>\n",
              "<tr><td>train_cifar_d3d5a_00000</td><td style=\"text-align: right;\">    0.1075</td><td style=\"text-align: right;\">2.35161</td><td>True               </td></tr>\n",
              "<tr><td>train_cifar_d3d5a_00001</td><td style=\"text-align: right;\">    0.0945</td><td style=\"text-align: right;\">2.3032 </td><td>True               </td></tr>\n",
              "<tr><td>train_cifar_d3d5a_00002</td><td style=\"text-align: right;\">    0.4022</td><td style=\"text-align: right;\">1.54357</td><td>True               </td></tr>\n",
              "<tr><td>train_cifar_d3d5a_00003</td><td style=\"text-align: right;\">    0.0949</td><td style=\"text-align: right;\">2.33421</td><td>True               </td></tr>\n",
              "<tr><td>train_cifar_d3d5a_00004</td><td style=\"text-align: right;\">    0.2721</td><td style=\"text-align: right;\">1.80375</td><td>True               </td></tr>\n",
              "<tr><td>train_cifar_d3d5a_00005</td><td style=\"text-align: right;\">    0.0991</td><td style=\"text-align: right;\">2.31526</td><td>True               </td></tr>\n",
              "<tr><td>train_cifar_d3d5a_00006</td><td style=\"text-align: right;\">    0.572 </td><td style=\"text-align: right;\">1.22895</td><td>True               </td></tr>\n",
              "<tr><td>train_cifar_d3d5a_00007</td><td style=\"text-align: right;\">    0.4006</td><td style=\"text-align: right;\">1.5564 </td><td>True               </td></tr>\n",
              "<tr><td>train_cifar_d3d5a_00008</td><td style=\"text-align: right;\">    0.3934</td><td style=\"text-align: right;\">1.64376</td><td>True               </td></tr>\n",
              "<tr><td>train_cifar_d3d5a_00009</td><td style=\"text-align: right;\">    0.1046</td><td style=\"text-align: right;\">2.32563</td><td>True               </td></tr>\n",
              "</tbody>\n",
              "</table>\n",
              "</div>\n",
              "<style>\n",
              ".trialProgress {\n",
              "  display: flex;\n",
              "  flex-direction: column;\n",
              "  color: var(--jp-ui-font-color1);\n",
              "}\n",
              ".trialProgress h3 {\n",
              "  font-weight: bold;\n",
              "}\n",
              ".trialProgress td {\n",
              "  white-space: nowrap;\n",
              "}\n",
              "</style>\n"
            ],
            "text/plain": [
              "<IPython.core.display.HTML object>"
            ]
          },
          "metadata": {},
          "output_type": "display_data"
        },
        {
          "name": "stderr",
          "output_type": "stream",
          "text": [
            "\u001b[36m(func pid=299470)\u001b[0m Checkpoint successfully created at: Checkpoint(filesystem=local, path=/users/mtech/vivekg/ray_results/train_cifar_2024-05-23_22-58-10/train_cifar_d3d5a_00008_8_batch_size=16,l1=256,l2=8,lr=0.0001_2024-05-23_22-58-11/checkpoint_000000)\n"
          ]
        },
        {
          "name": "stdout",
          "output_type": "stream",
          "text": [
            "\u001b[36m(func pid=299463)\u001b[0m [1,  4000] loss: 0.993\u001b[32m [repeated 10x across cluster]\u001b[0m\n",
            "\u001b[36m(func pid=299470)\u001b[0m [2,  2000] loss: 2.288\u001b[32m [repeated 7x across cluster]\u001b[0m\n"
          ]
        },
        {
          "name": "stderr",
          "output_type": "stream",
          "text": [
            "\u001b[36m(func pid=299463)\u001b[0m Checkpoint successfully created at: Checkpoint(filesystem=local, path=/users/mtech/vivekg/ray_results/train_cifar_2024-05-23_22-58-10/train_cifar_d3d5a_00002_2_batch_size=8,l1=2,l2=8,lr=0.0020_2024-05-23_22-58-11/checkpoint_000000)\u001b[32m [repeated 3x across cluster]\u001b[0m\n",
            "\u001b[36m(func pid=299456)\u001b[0m Checkpoint successfully created at: Checkpoint(filesystem=local, path=/users/mtech/vivekg/ray_results/train_cifar_2024-05-23_22-58-10/train_cifar_d3d5a_00001_1_batch_size=16,l1=16,l2=2,lr=0.0025_2024-05-23_22-58-11/checkpoint_000001)\u001b[32m [repeated 2x across cluster]\u001b[0m\n"
          ]
        },
        {
          "name": "stdout",
          "output_type": "stream",
          "text": [
            "\u001b[36m(func pid=299465)\u001b[0m [1,  6000] loss: 0.785\u001b[32m [repeated 2x across cluster]\u001b[0m\n",
            "\u001b[36m(func pid=299463)\u001b[0m [2,  2000] loss: 1.776\u001b[32m [repeated 6x across cluster]\u001b[0m\n",
            "\u001b[36m(func pid=299465)\u001b[0m [1,  8000] loss: 0.588\u001b[32m [repeated 2x across cluster]\u001b[0m\n"
          ]
        },
        {
          "name": "stderr",
          "output_type": "stream",
          "text": [
            "\u001b[36m(func pid=299470)\u001b[0m Checkpoint successfully created at: Checkpoint(filesystem=local, path=/users/mtech/vivekg/ray_results/train_cifar_2024-05-23_22-58-10/train_cifar_d3d5a_00008_8_batch_size=16,l1=256,l2=8,lr=0.0001_2024-05-23_22-58-11/checkpoint_000002)\n"
          ]
        },
        {
          "name": "stdout",
          "output_type": "stream",
          "text": [
            "\u001b[36m(func pid=299467)\u001b[0m [1, 10000] loss: 0.463\u001b[32m [repeated 7x across cluster]\u001b[0m\n"
          ]
        },
        {
          "name": "stderr",
          "output_type": "stream",
          "text": [
            "\u001b[36m(func pid=299463)\u001b[0m Checkpoint successfully created at: Checkpoint(filesystem=local, path=/users/mtech/vivekg/ray_results/train_cifar_2024-05-23_22-58-10/train_cifar_d3d5a_00002_2_batch_size=8,l1=2,l2=8,lr=0.0020_2024-05-23_22-58-11/checkpoint_000001)\n"
          ]
        },
        {
          "name": "stdout",
          "output_type": "stream",
          "text": [
            "\u001b[36m(func pid=299465)\u001b[0m [1, 12000] loss: 0.393\u001b[32m [repeated 7x across cluster]\u001b[0m\n"
          ]
        },
        {
          "name": "stderr",
          "output_type": "stream",
          "text": [
            "\u001b[36m(func pid=299467)\u001b[0m Checkpoint successfully created at: Checkpoint(filesystem=local, path=/users/mtech/vivekg/ray_results/train_cifar_2024-05-23_22-58-10/train_cifar_d3d5a_00005_5_batch_size=4,l1=8,l2=16,lr=0.0204_2024-05-23_22-58-11/checkpoint_000000)\u001b[32m [repeated 2x across cluster]\u001b[0m\n"
          ]
        },
        {
          "name": "stdout",
          "output_type": "stream",
          "text": [
            "\u001b[36m(func pid=299470)\u001b[0m [5,  2000] loss: 1.954\u001b[32m [repeated 5x across cluster]\u001b[0m\n"
          ]
        },
        {
          "name": "stderr",
          "output_type": "stream",
          "text": [
            "\u001b[36m(func pid=299470)\u001b[0m Checkpoint successfully created at: Checkpoint(filesystem=local, path=/users/mtech/vivekg/ray_results/train_cifar_2024-05-23_22-58-10/train_cifar_d3d5a_00008_8_batch_size=16,l1=256,l2=8,lr=0.0001_2024-05-23_22-58-11/checkpoint_000004)\u001b[32m [repeated 2x across cluster]\u001b[0m\n"
          ]
        },
        {
          "name": "stdout",
          "output_type": "stream",
          "text": [
            "\u001b[36m(func pid=299463)\u001b[0m [3,  4000] loss: 0.829\u001b[32m [repeated 3x across cluster]\u001b[0m\n"
          ]
        },
        {
          "name": "stderr",
          "output_type": "stream",
          "text": [
            "\u001b[36m(func pid=299463)\u001b[0m Checkpoint successfully created at: Checkpoint(filesystem=local, path=/users/mtech/vivekg/ray_results/train_cifar_2024-05-23_22-58-10/train_cifar_d3d5a_00002_2_batch_size=8,l1=2,l2=8,lr=0.0020_2024-05-23_22-58-11/checkpoint_000002)\n"
          ]
        },
        {
          "name": "stdout",
          "output_type": "stream",
          "text": [
            "\u001b[36m(func pid=299465)\u001b[0m [1, 16000] loss: 0.293\u001b[32m [repeated 4x across cluster]\u001b[0m\n"
          ]
        },
        {
          "name": "stderr",
          "output_type": "stream",
          "text": [
            "\u001b[36m(func pid=299470)\u001b[0m Checkpoint successfully created at: Checkpoint(filesystem=local, path=/users/mtech/vivekg/ray_results/train_cifar_2024-05-23_22-58-10/train_cifar_d3d5a_00008_8_batch_size=16,l1=256,l2=8,lr=0.0001_2024-05-23_22-58-11/checkpoint_000005)\n"
          ]
        },
        {
          "name": "stdout",
          "output_type": "stream",
          "text": [
            "\u001b[36m(func pid=299463)\u001b[0m [4,  2000] loss: 1.604\u001b[32m [repeated 6x across cluster]\u001b[0m\n",
            "\u001b[36m(func pid=299470)\u001b[0m [7,  2000] loss: 1.801\u001b[32m [repeated 6x across cluster]\u001b[0m\n"
          ]
        },
        {
          "name": "stderr",
          "output_type": "stream",
          "text": [
            "\u001b[36m(func pid=299470)\u001b[0m Checkpoint successfully created at: Checkpoint(filesystem=local, path=/users/mtech/vivekg/ray_results/train_cifar_2024-05-23_22-58-10/train_cifar_d3d5a_00008_8_batch_size=16,l1=256,l2=8,lr=0.0001_2024-05-23_22-58-11/checkpoint_000006)\n"
          ]
        },
        {
          "name": "stdout",
          "output_type": "stream",
          "text": [
            "\u001b[36m(func pid=299468)\u001b[0m [1, 20000] loss: 0.154\u001b[32m [repeated 4x across cluster]\u001b[0m\n"
          ]
        },
        {
          "name": "stderr",
          "output_type": "stream",
          "text": [
            "\u001b[36m(func pid=299463)\u001b[0m Checkpoint successfully created at: Checkpoint(filesystem=local, path=/users/mtech/vivekg/ray_results/train_cifar_2024-05-23_22-58-10/train_cifar_d3d5a_00002_2_batch_size=8,l1=2,l2=8,lr=0.0020_2024-05-23_22-58-11/checkpoint_000003)\n"
          ]
        },
        {
          "name": "stdout",
          "output_type": "stream",
          "text": [
            "\u001b[36m(func pid=299470)\u001b[0m [8,  2000] loss: 1.745\u001b[32m [repeated 3x across cluster]\u001b[0m\n"
          ]
        },
        {
          "name": "stderr",
          "output_type": "stream",
          "text": [
            "\u001b[36m(func pid=299470)\u001b[0m Checkpoint successfully created at: Checkpoint(filesystem=local, path=/users/mtech/vivekg/ray_results/train_cifar_2024-05-23_22-58-10/train_cifar_d3d5a_00008_8_batch_size=16,l1=256,l2=8,lr=0.0001_2024-05-23_22-58-11/checkpoint_000007)\n"
          ]
        },
        {
          "name": "stdout",
          "output_type": "stream",
          "text": [
            "\u001b[36m(func pid=299463)\u001b[0m [5,  2000] loss: 1.589\u001b[32m [repeated 2x across cluster]\u001b[0m\n"
          ]
        },
        {
          "name": "stderr",
          "output_type": "stream",
          "text": [
            "\u001b[36m(func pid=299471)\u001b[0m Checkpoint successfully created at: Checkpoint(filesystem=local, path=/users/mtech/vivekg/ray_results/train_cifar_2024-05-23_22-58-10/train_cifar_d3d5a_00009_9_batch_size=2,l1=32,l2=1,lr=0.0418_2024-05-23_22-58-11/checkpoint_000000)\n"
          ]
        },
        {
          "name": "stdout",
          "output_type": "stream",
          "text": [
            "\u001b[36m(func pid=299470)\u001b[0m [9,  2000] loss: 1.694\n",
            "\u001b[36m(func pid=299463)\u001b[0m [5,  4000] loss: 0.785\n"
          ]
        },
        {
          "name": "stderr",
          "output_type": "stream",
          "text": [
            "\u001b[36m(func pid=299470)\u001b[0m Checkpoint successfully created at: Checkpoint(filesystem=local, path=/users/mtech/vivekg/ray_results/train_cifar_2024-05-23_22-58-10/train_cifar_d3d5a_00008_8_batch_size=16,l1=256,l2=8,lr=0.0001_2024-05-23_22-58-11/checkpoint_000008)\u001b[32m [repeated 5x across cluster]\u001b[0m\n"
          ]
        },
        {
          "name": "stdout",
          "output_type": "stream",
          "text": [
            "\u001b[36m(func pid=299469)\u001b[0m [2,  2000] loss: 1.887\u001b[32m [repeated 2x across cluster]\u001b[0m\n"
          ]
        },
        {
          "name": "stderr",
          "output_type": "stream",
          "text": [
            "\u001b[36m(func pid=299463)\u001b[0m Checkpoint successfully created at: Checkpoint(filesystem=local, path=/users/mtech/vivekg/ray_results/train_cifar_2024-05-23_22-58-10/train_cifar_d3d5a_00002_2_batch_size=8,l1=2,l2=8,lr=0.0020_2024-05-23_22-58-11/checkpoint_000004)\n"
          ]
        },
        {
          "name": "stdout",
          "output_type": "stream",
          "text": [
            "\u001b[36m(func pid=299470)\u001b[0m [10,  2000] loss: 1.661\u001b[32m [repeated 3x across cluster]\u001b[0m\n"
          ]
        },
        {
          "name": "stderr",
          "output_type": "stream",
          "text": [
            "\u001b[36m(func pid=299470)\u001b[0m Checkpoint successfully created at: Checkpoint(filesystem=local, path=/users/mtech/vivekg/ray_results/train_cifar_2024-05-23_22-58-10/train_cifar_d3d5a_00008_8_batch_size=16,l1=256,l2=8,lr=0.0001_2024-05-23_22-58-11/checkpoint_000009)\n"
          ]
        },
        {
          "name": "stdout",
          "output_type": "stream",
          "text": [
            "\u001b[36m(func pid=299468)\u001b[0m [2,  6000] loss: 0.484\u001b[32m [repeated 4x across cluster]\u001b[0m\n",
            "\u001b[36m(func pid=299469)\u001b[0m [2,  6000] loss: 0.600\n",
            "\u001b[36m(func pid=299463)\u001b[0m [6,  4000] loss: 0.787\n",
            "\u001b[36m(func pid=299469)\u001b[0m [2,  8000] loss: 0.454\u001b[32m [repeated 3x across cluster]\u001b[0m\n"
          ]
        },
        {
          "name": "stderr",
          "output_type": "stream",
          "text": [
            "\u001b[36m(func pid=299463)\u001b[0m Checkpoint successfully created at: Checkpoint(filesystem=local, path=/users/mtech/vivekg/ray_results/train_cifar_2024-05-23_22-58-10/train_cifar_d3d5a_00002_2_batch_size=8,l1=2,l2=8,lr=0.0020_2024-05-23_22-58-11/checkpoint_000005)\n"
          ]
        },
        {
          "name": "stdout",
          "output_type": "stream",
          "text": [
            "\u001b[36m(func pid=299463)\u001b[0m [7,  2000] loss: 1.546\u001b[32m [repeated 3x across cluster]\u001b[0m\n",
            "\u001b[36m(func pid=299463)\u001b[0m [7,  4000] loss: 0.774\u001b[32m [repeated 4x across cluster]\u001b[0m\n"
          ]
        },
        {
          "name": "stderr",
          "output_type": "stream",
          "text": [
            "\u001b[36m(func pid=299466)\u001b[0m Checkpoint successfully created at: Checkpoint(filesystem=local, path=/users/mtech/vivekg/ray_results/train_cifar_2024-05-23_22-58-10/train_cifar_d3d5a_00004_4_batch_size=4,l1=128,l2=1,lr=0.0005_2024-05-23_22-58-11/checkpoint_000002)\n",
            "\u001b[36m(func pid=299463)\u001b[0m Checkpoint successfully created at: Checkpoint(filesystem=local, path=/users/mtech/vivekg/ray_results/train_cifar_2024-05-23_22-58-10/train_cifar_d3d5a_00002_2_batch_size=8,l1=2,l2=8,lr=0.0020_2024-05-23_22-58-11/checkpoint_000006)\n"
          ]
        },
        {
          "name": "stdout",
          "output_type": "stream",
          "text": [
            "\u001b[36m(func pid=299469)\u001b[0m [2, 14000] loss: 0.249\u001b[32m [repeated 3x across cluster]\u001b[0m\n",
            "\u001b[36m(func pid=299463)\u001b[0m [8,  2000] loss: 1.538\u001b[32m [repeated 3x across cluster]\u001b[0m\n",
            "\u001b[36m(func pid=299463)\u001b[0m [8,  4000] loss: 0.770\u001b[32m [repeated 4x across cluster]\u001b[0m\n",
            "\u001b[36m(func pid=299466)\u001b[0m [4,  6000] loss: 0.623\u001b[32m [repeated 3x across cluster]\u001b[0m\n"
          ]
        },
        {
          "name": "stderr",
          "output_type": "stream",
          "text": [
            "\u001b[36m(func pid=299463)\u001b[0m Checkpoint successfully created at: Checkpoint(filesystem=local, path=/users/mtech/vivekg/ray_results/train_cifar_2024-05-23_22-58-10/train_cifar_d3d5a_00002_2_batch_size=8,l1=2,l2=8,lr=0.0020_2024-05-23_22-58-11/checkpoint_000007)\n"
          ]
        },
        {
          "name": "stdout",
          "output_type": "stream",
          "text": [
            "\u001b[36m(func pid=299469)\u001b[0m [2, 20000] loss: 0.168\n",
            "\u001b[36m(func pid=299466)\u001b[0m [4,  8000] loss: 0.469\n"
          ]
        },
        {
          "name": "stderr",
          "output_type": "stream",
          "text": [
            "\u001b[36m(func pid=299468)\u001b[0m Checkpoint successfully created at: Checkpoint(filesystem=local, path=/users/mtech/vivekg/ray_results/train_cifar_2024-05-23_22-58-10/train_cifar_d3d5a_00006_6_batch_size=2,l1=8,l2=32,lr=0.0006_2024-05-23_22-58-11/checkpoint_000001)\n"
          ]
        },
        {
          "name": "stdout",
          "output_type": "stream",
          "text": [
            "\u001b[36m(func pid=299466)\u001b[0m [4, 10000] loss: 0.374\u001b[32m [repeated 2x across cluster]\u001b[0m\n"
          ]
        },
        {
          "name": "stderr",
          "output_type": "stream",
          "text": [
            "\u001b[36m(func pid=299469)\u001b[0m Checkpoint successfully created at: Checkpoint(filesystem=local, path=/users/mtech/vivekg/ray_results/train_cifar_2024-05-23_22-58-10/train_cifar_d3d5a_00007_7_batch_size=2,l1=2,l2=64,lr=0.0002_2024-05-23_22-58-11/checkpoint_000001)\n",
            "\u001b[36m(func pid=299466)\u001b[0m Checkpoint successfully created at: Checkpoint(filesystem=local, path=/users/mtech/vivekg/ray_results/train_cifar_2024-05-23_22-58-10/train_cifar_d3d5a_00004_4_batch_size=4,l1=128,l2=1,lr=0.0005_2024-05-23_22-58-11/checkpoint_000003)\n",
            "\u001b[36m(func pid=299463)\u001b[0m Checkpoint successfully created at: Checkpoint(filesystem=local, path=/users/mtech/vivekg/ray_results/train_cifar_2024-05-23_22-58-10/train_cifar_d3d5a_00002_2_batch_size=8,l1=2,l2=8,lr=0.0020_2024-05-23_22-58-11/checkpoint_000008)\n"
          ]
        },
        {
          "name": "stdout",
          "output_type": "stream",
          "text": [
            "\u001b[36m(func pid=299468)\u001b[0m [3,  4000] loss: 0.674\u001b[32m [repeated 3x across cluster]\u001b[0m\n",
            "\u001b[36m(func pid=299466)\u001b[0m [5,  2000] loss: 1.856\u001b[32m [repeated 2x across cluster]\u001b[0m\n",
            "\u001b[36m(func pid=299466)\u001b[0m [5,  4000] loss: 0.925\u001b[32m [repeated 4x across cluster]\u001b[0m\n"
          ]
        },
        {
          "name": "stderr",
          "output_type": "stream",
          "text": [
            "\u001b[36m(func pid=299463)\u001b[0m Checkpoint successfully created at: Checkpoint(filesystem=local, path=/users/mtech/vivekg/ray_results/train_cifar_2024-05-23_22-58-10/train_cifar_d3d5a_00002_2_batch_size=8,l1=2,l2=8,lr=0.0020_2024-05-23_22-58-11/checkpoint_000009)\n"
          ]
        },
        {
          "name": "stdout",
          "output_type": "stream",
          "text": [
            "\u001b[36m(func pid=299466)\u001b[0m [5,  6000] loss: 0.617\u001b[32m [repeated 4x across cluster]\u001b[0m\n",
            "\u001b[36m(func pid=299466)\u001b[0m [5,  8000] loss: 0.463\u001b[32m [repeated 3x across cluster]\u001b[0m\n",
            "\u001b[36m(func pid=299469)\u001b[0m [3, 12000] loss: 0.274\u001b[32m [repeated 3x across cluster]\u001b[0m\n"
          ]
        },
        {
          "name": "stderr",
          "output_type": "stream",
          "text": [
            "\u001b[36m(func pid=299466)\u001b[0m Checkpoint successfully created at: Checkpoint(filesystem=local, path=/users/mtech/vivekg/ray_results/train_cifar_2024-05-23_22-58-10/train_cifar_d3d5a_00004_4_batch_size=4,l1=128,l2=1,lr=0.0005_2024-05-23_22-58-11/checkpoint_000004)\n"
          ]
        },
        {
          "name": "stdout",
          "output_type": "stream",
          "text": [
            "\u001b[36m(func pid=299469)\u001b[0m [3, 14000] loss: 0.233\u001b[32m [repeated 3x across cluster]\u001b[0m\n",
            "\u001b[36m(func pid=299469)\u001b[0m [3, 16000] loss: 0.203\u001b[32m [repeated 2x across cluster]\u001b[0m\n",
            "\u001b[36m(func pid=299469)\u001b[0m [3, 18000] loss: 0.182\u001b[32m [repeated 3x across cluster]\u001b[0m\n",
            "\u001b[36m(func pid=299469)\u001b[0m [3, 20000] loss: 0.163\u001b[32m [repeated 3x across cluster]\u001b[0m\n"
          ]
        },
        {
          "name": "stderr",
          "output_type": "stream",
          "text": [
            "\u001b[36m(func pid=299468)\u001b[0m Checkpoint successfully created at: Checkpoint(filesystem=local, path=/users/mtech/vivekg/ray_results/train_cifar_2024-05-23_22-58-10/train_cifar_d3d5a_00006_6_batch_size=2,l1=8,l2=32,lr=0.0006_2024-05-23_22-58-11/checkpoint_000002)\n"
          ]
        },
        {
          "name": "stdout",
          "output_type": "stream",
          "text": [
            "\u001b[36m(func pid=299466)\u001b[0m [6,  8000] loss: 0.456\u001b[32m [repeated 2x across cluster]\u001b[0m\n"
          ]
        },
        {
          "name": "stderr",
          "output_type": "stream",
          "text": [
            "\u001b[36m(func pid=299469)\u001b[0m Checkpoint successfully created at: Checkpoint(filesystem=local, path=/users/mtech/vivekg/ray_results/train_cifar_2024-05-23_22-58-10/train_cifar_d3d5a_00007_7_batch_size=2,l1=2,l2=64,lr=0.0002_2024-05-23_22-58-11/checkpoint_000002)\n"
          ]
        },
        {
          "name": "stdout",
          "output_type": "stream",
          "text": [
            "\u001b[36m(func pid=299468)\u001b[0m [4,  2000] loss: 1.325\n",
            "\u001b[36m(func pid=299466)\u001b[0m [6, 10000] loss: 0.364\n",
            "\u001b[36m(func pid=299468)\u001b[0m [4,  4000] loss: 0.634\u001b[32m [repeated 2x across cluster]\u001b[0m\n"
          ]
        },
        {
          "name": "stderr",
          "output_type": "stream",
          "text": [
            "\u001b[36m(func pid=299466)\u001b[0m Checkpoint successfully created at: Checkpoint(filesystem=local, path=/users/mtech/vivekg/ray_results/train_cifar_2024-05-23_22-58-10/train_cifar_d3d5a_00004_4_batch_size=4,l1=128,l2=1,lr=0.0005_2024-05-23_22-58-11/checkpoint_000005)\n"
          ]
        },
        {
          "name": "stdout",
          "output_type": "stream",
          "text": [
            "\u001b[36m(func pid=299468)\u001b[0m [4,  6000] loss: 0.437\u001b[32m [repeated 2x across cluster]\u001b[0m\n",
            "\u001b[36m(func pid=299468)\u001b[0m [4,  8000] loss: 0.316\u001b[32m [repeated 3x across cluster]\u001b[0m\n",
            "\u001b[36m(func pid=299468)\u001b[0m [4, 10000] loss: 0.256\u001b[32m [repeated 3x across cluster]\u001b[0m\n",
            "\u001b[36m(func pid=299468)\u001b[0m [4, 12000] loss: 0.220\u001b[32m [repeated 3x across cluster]\u001b[0m\n",
            "\u001b[36m(func pid=299468)\u001b[0m [4, 14000] loss: 0.184\u001b[32m [repeated 3x across cluster]\u001b[0m\n"
          ]
        },
        {
          "name": "stderr",
          "output_type": "stream",
          "text": [
            "\u001b[36m(func pid=299466)\u001b[0m Checkpoint successfully created at: Checkpoint(filesystem=local, path=/users/mtech/vivekg/ray_results/train_cifar_2024-05-23_22-58-10/train_cifar_d3d5a_00004_4_batch_size=4,l1=128,l2=1,lr=0.0005_2024-05-23_22-58-11/checkpoint_000006)\n"
          ]
        },
        {
          "name": "stdout",
          "output_type": "stream",
          "text": [
            "\u001b[36m(func pid=299468)\u001b[0m [4, 16000] loss: 0.160\u001b[32m [repeated 3x across cluster]\u001b[0m\n",
            "\u001b[36m(func pid=299466)\u001b[0m [8,  2000] loss: 1.787\u001b[32m [repeated 2x across cluster]\u001b[0m\n",
            "\u001b[36m(func pid=299466)\u001b[0m [8,  4000] loss: 0.890\u001b[32m [repeated 3x across cluster]\u001b[0m\n",
            "\u001b[36m(func pid=299466)\u001b[0m [8,  6000] loss: 0.595\u001b[32m [repeated 3x across cluster]\u001b[0m\n"
          ]
        },
        {
          "name": "stderr",
          "output_type": "stream",
          "text": [
            "\u001b[36m(func pid=299468)\u001b[0m Checkpoint successfully created at: Checkpoint(filesystem=local, path=/users/mtech/vivekg/ray_results/train_cifar_2024-05-23_22-58-10/train_cifar_d3d5a_00006_6_batch_size=2,l1=8,l2=32,lr=0.0006_2024-05-23_22-58-11/checkpoint_000003)\n",
            "\u001b[36m(func pid=299469)\u001b[0m Checkpoint successfully created at: Checkpoint(filesystem=local, path=/users/mtech/vivekg/ray_results/train_cifar_2024-05-23_22-58-10/train_cifar_d3d5a_00007_7_batch_size=2,l1=2,l2=64,lr=0.0002_2024-05-23_22-58-11/checkpoint_000003)\n"
          ]
        },
        {
          "name": "stdout",
          "output_type": "stream",
          "text": [
            "\u001b[36m(func pid=299466)\u001b[0m [8,  8000] loss: 0.445\n",
            "\u001b[36m(func pid=299468)\u001b[0m [5,  2000] loss: 1.223\n",
            "\u001b[36m(func pid=299468)\u001b[0m [5,  4000] loss: 0.612\u001b[32m [repeated 3x across cluster]\u001b[0m\n"
          ]
        },
        {
          "name": "stderr",
          "output_type": "stream",
          "text": [
            "\u001b[36m(func pid=299466)\u001b[0m Checkpoint successfully created at: Checkpoint(filesystem=local, path=/users/mtech/vivekg/ray_results/train_cifar_2024-05-23_22-58-10/train_cifar_d3d5a_00004_4_batch_size=4,l1=128,l2=1,lr=0.0005_2024-05-23_22-58-11/checkpoint_000007)\n"
          ]
        },
        {
          "name": "stdout",
          "output_type": "stream",
          "text": [
            "\u001b[36m(func pid=299468)\u001b[0m [5,  6000] loss: 0.419\u001b[32m [repeated 2x across cluster]\u001b[0m\n",
            "\u001b[36m(func pid=299468)\u001b[0m [5,  8000] loss: 0.308\u001b[32m [repeated 2x across cluster]\u001b[0m\n",
            "\u001b[36m(func pid=299468)\u001b[0m [5, 10000] loss: 0.251\u001b[32m [repeated 2x across cluster]\u001b[0m\n",
            "\u001b[36m(func pid=299468)\u001b[0m [5, 12000] loss: 0.213\u001b[32m [repeated 2x across cluster]\u001b[0m\n",
            "\u001b[36m(func pid=299468)\u001b[0m [5, 14000] loss: 0.180\u001b[32m [repeated 2x across cluster]\u001b[0m\n",
            "\u001b[36m(func pid=299468)\u001b[0m [5, 16000] loss: 0.156\u001b[32m [repeated 2x across cluster]\u001b[0m\n",
            "\u001b[36m(func pid=299468)\u001b[0m [5, 18000] loss: 0.138\u001b[32m [repeated 2x across cluster]\u001b[0m\n",
            "\u001b[36m(func pid=299468)\u001b[0m [5, 20000] loss: 0.125\u001b[32m [repeated 2x across cluster]\u001b[0m\n"
          ]
        },
        {
          "name": "stderr",
          "output_type": "stream",
          "text": [
            "\u001b[36m(func pid=299468)\u001b[0m Checkpoint successfully created at: Checkpoint(filesystem=local, path=/users/mtech/vivekg/ray_results/train_cifar_2024-05-23_22-58-10/train_cifar_d3d5a_00006_6_batch_size=2,l1=8,l2=32,lr=0.0006_2024-05-23_22-58-11/checkpoint_000004)\n"
          ]
        },
        {
          "name": "stdout",
          "output_type": "stream",
          "text": [
            "\u001b[36m(func pid=299468)\u001b[0m [6,  2000] loss: 1.222\u001b[32m [repeated 2x across cluster]\u001b[0m\n",
            "\u001b[36m(func pid=299468)\u001b[0m [6,  4000] loss: 0.611\u001b[32m [repeated 2x across cluster]\u001b[0m\n",
            "\u001b[36m(func pid=299468)\u001b[0m [6,  6000] loss: 0.403\u001b[32m [repeated 2x across cluster]\u001b[0m\n",
            "\u001b[36m(func pid=299468)\u001b[0m [6,  8000] loss: 0.313\u001b[32m [repeated 2x across cluster]\u001b[0m\n",
            "\u001b[36m(func pid=299468)\u001b[0m [6, 10000] loss: 0.244\u001b[32m [repeated 2x across cluster]\u001b[0m\n",
            "\u001b[36m(func pid=299468)\u001b[0m [6, 12000] loss: 0.207\u001b[32m [repeated 2x across cluster]\u001b[0m\n",
            "\u001b[36m(func pid=299468)\u001b[0m [6, 14000] loss: 0.172\u001b[32m [repeated 2x across cluster]\u001b[0m\n",
            "\u001b[36m(func pid=299468)\u001b[0m [6, 16000] loss: 0.147\u001b[32m [repeated 2x across cluster]\u001b[0m\n",
            "\u001b[36m(func pid=299468)\u001b[0m [6, 18000] loss: 0.138\u001b[32m [repeated 2x across cluster]\u001b[0m\n",
            "\u001b[36m(func pid=299468)\u001b[0m [6, 20000] loss: 0.125\u001b[32m [repeated 2x across cluster]\u001b[0m\n"
          ]
        },
        {
          "name": "stderr",
          "output_type": "stream",
          "text": [
            "\u001b[36m(func pid=299468)\u001b[0m Checkpoint successfully created at: Checkpoint(filesystem=local, path=/users/mtech/vivekg/ray_results/train_cifar_2024-05-23_22-58-10/train_cifar_d3d5a_00006_6_batch_size=2,l1=8,l2=32,lr=0.0006_2024-05-23_22-58-11/checkpoint_000005)\u001b[32m [repeated 2x across cluster]\u001b[0m\n"
          ]
        },
        {
          "name": "stdout",
          "output_type": "stream",
          "text": [
            "\u001b[36m(func pid=299468)\u001b[0m [7,  2000] loss: 1.165\u001b[32m [repeated 2x across cluster]\u001b[0m\n",
            "\u001b[36m(func pid=299469)\u001b[0m [7,  4000] loss: 0.759\u001b[32m [repeated 2x across cluster]\u001b[0m\n",
            "\u001b[36m(func pid=299468)\u001b[0m [7,  6000] loss: 0.402\u001b[32m [repeated 2x across cluster]\u001b[0m\n",
            "\u001b[36m(func pid=299468)\u001b[0m [7,  8000] loss: 0.299\u001b[32m [repeated 2x across cluster]\u001b[0m\n",
            "\u001b[36m(func pid=299468)\u001b[0m [7, 10000] loss: 0.243\u001b[32m [repeated 2x across cluster]\u001b[0m\n",
            "\u001b[36m(func pid=299468)\u001b[0m [7, 12000] loss: 0.200\u001b[32m [repeated 2x across cluster]\u001b[0m\n",
            "\u001b[36m(func pid=299469)\u001b[0m [7, 14000] loss: 0.221\u001b[32m [repeated 2x across cluster]\u001b[0m\n",
            "\u001b[36m(func pid=299469)\u001b[0m [7, 16000] loss: 0.190\u001b[32m [repeated 2x across cluster]\u001b[0m\n",
            "\u001b[36m(func pid=299469)\u001b[0m [7, 18000] loss: 0.172\u001b[32m [repeated 2x across cluster]\u001b[0m\n",
            "\u001b[36m(func pid=299468)\u001b[0m [7, 18000] loss: 0.133\n",
            "\u001b[36m(func pid=299469)\u001b[0m [7, 20000] loss: 0.155\n"
          ]
        },
        {
          "name": "stderr",
          "output_type": "stream",
          "text": [
            "\u001b[36m(func pid=299469)\u001b[0m Checkpoint successfully created at: Checkpoint(filesystem=local, path=/users/mtech/vivekg/ray_results/train_cifar_2024-05-23_22-58-10/train_cifar_d3d5a_00007_7_batch_size=2,l1=2,l2=64,lr=0.0002_2024-05-23_22-58-11/checkpoint_000006)\u001b[32m [repeated 2x across cluster]\u001b[0m\n"
          ]
        },
        {
          "name": "stdout",
          "output_type": "stream",
          "text": [
            "\u001b[36m(func pid=299469)\u001b[0m [8,  2000] loss: 1.523\u001b[32m [repeated 2x across cluster]\u001b[0m\n",
            "\u001b[36m(func pid=299468)\u001b[0m [8,  2000] loss: 1.189\n",
            "\u001b[36m(func pid=299469)\u001b[0m [8,  4000] loss: 0.748\n",
            "\u001b[36m(func pid=299468)\u001b[0m [8,  4000] loss: 0.593\n",
            "\u001b[36m(func pid=299469)\u001b[0m [8,  6000] loss: 0.502\n",
            "\u001b[36m(func pid=299468)\u001b[0m [8,  6000] loss: 0.394\n",
            "\u001b[36m(func pid=299469)\u001b[0m [8,  8000] loss: 0.382\n",
            "\u001b[36m(func pid=299468)\u001b[0m [8,  8000] loss: 0.289\n",
            "\u001b[36m(func pid=299469)\u001b[0m [8, 10000] loss: 0.299\n",
            "\u001b[36m(func pid=299468)\u001b[0m [8, 10000] loss: 0.239\n",
            "\u001b[36m(func pid=299469)\u001b[0m [8, 12000] loss: 0.251\n",
            "\u001b[36m(func pid=299468)\u001b[0m [8, 12000] loss: 0.201\n",
            "\u001b[36m(func pid=299469)\u001b[0m [8, 14000] loss: 0.216\n",
            "\u001b[36m(func pid=299468)\u001b[0m [8, 14000] loss: 0.169\n",
            "\u001b[36m(func pid=299469)\u001b[0m [8, 16000] loss: 0.191\n",
            "\u001b[36m(func pid=299468)\u001b[0m [8, 16000] loss: 0.149\n",
            "\u001b[36m(func pid=299469)\u001b[0m [8, 18000] loss: 0.170\n",
            "\u001b[36m(func pid=299468)\u001b[0m [8, 18000] loss: 0.132\n",
            "\u001b[36m(func pid=299469)\u001b[0m [8, 20000] loss: 0.151\n",
            "\u001b[36m(func pid=299468)\u001b[0m [8, 20000] loss: 0.118\n"
          ]
        },
        {
          "name": "stderr",
          "output_type": "stream",
          "text": [
            "\u001b[36m(func pid=299469)\u001b[0m Checkpoint successfully created at: Checkpoint(filesystem=local, path=/users/mtech/vivekg/ray_results/train_cifar_2024-05-23_22-58-10/train_cifar_d3d5a_00007_7_batch_size=2,l1=2,l2=64,lr=0.0002_2024-05-23_22-58-11/checkpoint_000007)\u001b[32m [repeated 2x across cluster]\u001b[0m\n",
            "\u001b[36m(func pid=299468)\u001b[0m Checkpoint successfully created at: Checkpoint(filesystem=local, path=/users/mtech/vivekg/ray_results/train_cifar_2024-05-23_22-58-10/train_cifar_d3d5a_00006_6_batch_size=2,l1=8,l2=32,lr=0.0006_2024-05-23_22-58-11/checkpoint_000007)\n"
          ]
        },
        {
          "name": "stdout",
          "output_type": "stream",
          "text": [
            "\u001b[36m(func pid=299469)\u001b[0m [9,  2000] loss: 1.502\n",
            "\u001b[36m(func pid=299468)\u001b[0m [9,  2000] loss: 1.164\n",
            "\u001b[36m(func pid=299469)\u001b[0m [9,  4000] loss: 0.758\n",
            "\u001b[36m(func pid=299468)\u001b[0m [9,  4000] loss: 0.574\n",
            "\u001b[36m(func pid=299469)\u001b[0m [9,  6000] loss: 0.506\n",
            "\u001b[36m(func pid=299468)\u001b[0m [9,  6000] loss: 0.392\n",
            "\u001b[36m(func pid=299469)\u001b[0m [9,  8000] loss: 0.372\n",
            "\u001b[36m(func pid=299468)\u001b[0m [9,  8000] loss: 0.286\n",
            "\u001b[36m(func pid=299469)\u001b[0m [9, 10000] loss: 0.302\n",
            "\u001b[36m(func pid=299469)\u001b[0m [9, 12000] loss: 0.247\n",
            "\u001b[36m(func pid=299468)\u001b[0m [9, 10000] loss: 0.237\n",
            "\u001b[36m(func pid=299469)\u001b[0m [9, 14000] loss: 0.216\n",
            "\u001b[36m(func pid=299468)\u001b[0m [9, 12000] loss: 0.201\n",
            "\u001b[36m(func pid=299468)\u001b[0m [9, 14000] loss: 0.172\n",
            "\u001b[36m(func pid=299469)\u001b[0m [9, 16000] loss: 0.188\n",
            "\u001b[36m(func pid=299469)\u001b[0m [9, 18000] loss: 0.166\n",
            "\u001b[36m(func pid=299468)\u001b[0m [9, 16000] loss: 0.146\n",
            "\u001b[36m(func pid=299468)\u001b[0m [9, 18000] loss: 0.132\n",
            "\u001b[36m(func pid=299469)\u001b[0m [9, 20000] loss: 0.149\n",
            "\u001b[36m(func pid=299468)\u001b[0m [9, 20000] loss: 0.115\n"
          ]
        },
        {
          "name": "stderr",
          "output_type": "stream",
          "text": [
            "\u001b[36m(func pid=299469)\u001b[0m Checkpoint successfully created at: Checkpoint(filesystem=local, path=/users/mtech/vivekg/ray_results/train_cifar_2024-05-23_22-58-10/train_cifar_d3d5a_00007_7_batch_size=2,l1=2,l2=64,lr=0.0002_2024-05-23_22-58-11/checkpoint_000008)\n",
            "\u001b[36m(func pid=299468)\u001b[0m Checkpoint successfully created at: Checkpoint(filesystem=local, path=/users/mtech/vivekg/ray_results/train_cifar_2024-05-23_22-58-10/train_cifar_d3d5a_00006_6_batch_size=2,l1=8,l2=32,lr=0.0006_2024-05-23_22-58-11/checkpoint_000008)\n"
          ]
        },
        {
          "name": "stdout",
          "output_type": "stream",
          "text": [
            "\u001b[36m(func pid=299469)\u001b[0m [10,  2000] loss: 1.480\n",
            "\u001b[36m(func pid=299468)\u001b[0m [10,  2000] loss: 1.168\n",
            "\u001b[36m(func pid=299469)\u001b[0m [10,  4000] loss: 0.743\n",
            "\u001b[36m(func pid=299468)\u001b[0m [10,  4000] loss: 0.576\n",
            "\u001b[36m(func pid=299469)\u001b[0m [10,  6000] loss: 0.500\n",
            "\u001b[36m(func pid=299468)\u001b[0m [10,  6000] loss: 0.380\n",
            "\u001b[36m(func pid=299469)\u001b[0m [10,  8000] loss: 0.377\n",
            "\u001b[36m(func pid=299468)\u001b[0m [10,  8000] loss: 0.294\n",
            "\u001b[36m(func pid=299469)\u001b[0m [10, 10000] loss: 0.298\n",
            "\u001b[36m(func pid=299468)\u001b[0m [10, 10000] loss: 0.228\n",
            "\u001b[36m(func pid=299469)\u001b[0m [10, 12000] loss: 0.245\n",
            "\u001b[36m(func pid=299468)\u001b[0m [10, 12000] loss: 0.194\n",
            "\u001b[36m(func pid=299469)\u001b[0m [10, 14000] loss: 0.215\n",
            "\u001b[36m(func pid=299468)\u001b[0m [10, 14000] loss: 0.167\n",
            "\u001b[36m(func pid=299469)\u001b[0m [10, 16000] loss: 0.189\n",
            "\u001b[36m(func pid=299469)\u001b[0m [10, 18000] loss: 0.165\n",
            "\u001b[36m(func pid=299468)\u001b[0m [10, 16000] loss: 0.148\n",
            "\u001b[36m(func pid=299468)\u001b[0m [10, 18000] loss: 0.132\n",
            "\u001b[36m(func pid=299469)\u001b[0m [10, 20000] loss: 0.148\n",
            "\u001b[36m(func pid=299468)\u001b[0m [10, 20000] loss: 0.118\n"
          ]
        },
        {
          "name": "stderr",
          "output_type": "stream",
          "text": [
            "\u001b[36m(func pid=299469)\u001b[0m Checkpoint successfully created at: Checkpoint(filesystem=local, path=/users/mtech/vivekg/ray_results/train_cifar_2024-05-23_22-58-10/train_cifar_d3d5a_00007_7_batch_size=2,l1=2,l2=64,lr=0.0002_2024-05-23_22-58-11/checkpoint_000009)\n",
            "\u001b[36m(func pid=299468)\u001b[0m Checkpoint successfully created at: Checkpoint(filesystem=local, path=/users/mtech/vivekg/ray_results/train_cifar_2024-05-23_22-58-10/train_cifar_d3d5a_00006_6_batch_size=2,l1=8,l2=32,lr=0.0006_2024-05-23_22-58-11/checkpoint_000009)\n",
            "2024-05-23 23:16:10,348\tWARNING experiment_state.py:205 -- Experiment state snapshotting has been triggered multiple times in the last 5.0 seconds. A snapshot is forced if `CheckpointConfig(num_to_keep)` is set, and a trial has checkpointed >= `num_to_keep` times since the last snapshot.\n",
            "You may want to consider increasing the `CheckpointConfig(num_to_keep)` or decreasing the frequency of saving checkpoints.\n",
            "You can suppress this error by setting the environment variable TUNE_WARN_EXCESSIVE_EXPERIMENT_CHECKPOINT_SYNC_THRESHOLD_S to a smaller value than the current threshold (5.0).\n",
            "2024-05-23 23:16:10,364\tINFO tune.py:1007 -- Wrote the latest version of all result files and experiment state to '/users/mtech/vivekg/ray_results/train_cifar_2024-05-23_22-58-10' in 0.0232s.\n",
            "2024-05-23 23:16:10,376\tINFO tune.py:1039 -- Total run time: 1079.60 seconds (1079.27 seconds for the tuning loop).\n"
          ]
        },
        {
          "name": "stdout",
          "output_type": "stream",
          "text": [
            "Best trial config: {'l1': 8, 'l2': 32, 'lr': 0.0006493823377283368, 'batch_size': 2}\n",
            "Best trial final validation loss: 1.2289530827797017\n",
            "Best trial final validation accuracy: 0.572\n",
            "Files already downloaded and verified\n",
            "Files already downloaded and verified\n",
            "Best trial test set accuracy: 0.5647\n"
          ]
        }
      ],
      "source": [
        "def main(num_samples=10, max_num_epochs=10, gpus_per_trial=2):\n",
        "    data_dir = os.path.abspath(\"./data\")\n",
        "    load_data(data_dir)\n",
        "    config = {\n",
        "        \"l1\": tune.choice([2**i for i in range(9)]),\n",
        "        \"l2\": tune.choice([2**i for i in range(9)]),\n",
        "        \"lr\": tune.loguniform(1e-4, 1e-1),\n",
        "        \"batch_size\": tune.choice([2, 4, 8, 16]),\n",
        "    }\n",
        "    scheduler = ASHAScheduler(\n",
        "        metric=\"loss\",\n",
        "        mode=\"min\",\n",
        "        max_t=max_num_epochs,\n",
        "        grace_period=1,\n",
        "        reduction_factor=2,\n",
        "    )\n",
        "    result = tune.run(\n",
        "        partial(train_cifar, data_dir=data_dir),\n",
        "        resources_per_trial={\"cpu\": 2, \"gpu\": gpus_per_trial},\n",
        "        config=config,\n",
        "        num_samples=num_samples,\n",
        "        scheduler=scheduler,\n",
        "    )\n",
        "\n",
        "    best_trial = result.get_best_trial(\"loss\", \"min\", \"last\")\n",
        "    print(f\"Best trial config: {best_trial.config}\")\n",
        "    print(f\"Best trial final validation loss: {best_trial.last_result['loss']}\")\n",
        "    print(f\"Best trial final validation accuracy: {best_trial.last_result['accuracy']}\")\n",
        "\n",
        "    best_trained_model = Net(best_trial.config[\"l1\"], best_trial.config[\"l2\"])\n",
        "    device = \"cpu\"\n",
        "    if torch.cuda.is_available():\n",
        "        device = \"cuda:0\"\n",
        "        if gpus_per_trial > 1:\n",
        "            best_trained_model = nn.DataParallel(best_trained_model)\n",
        "    best_trained_model.to(device)\n",
        "\n",
        "    best_checkpoint = result.get_best_checkpoint(trial=best_trial, metric=\"accuracy\", mode=\"max\")\n",
        "    with best_checkpoint.as_directory() as checkpoint_dir:\n",
        "        data_path = Path(checkpoint_dir) / \"data.pkl\"\n",
        "        with open(data_path, \"rb\") as fp:\n",
        "            best_checkpoint_data = pickle.load(fp)\n",
        "\n",
        "        best_trained_model.load_state_dict(best_checkpoint_data[\"net_state_dict\"])\n",
        "        test_acc = test_accuracy(best_trained_model, device)\n",
        "        print(\"Best trial test set accuracy: {}\".format(test_acc))\n",
        "\n",
        "\n",
        "if __name__ == \"__main__\":\n",
        "    # You can change the number of GPUs per trial here:\n",
        "    main(num_samples=10, max_num_epochs=10, gpus_per_trial=(1/16))"
      ]
    },
    {
      "cell_type": "markdown",
      "metadata": {
        "id": "A1UE8eaRaIRe"
      },
      "source": [
        "If you run the code, an example output could look like this:\n",
        "\n",
        "``` {.sourceCode .sh}\n",
        "Number of trials: 10/10 (10 TERMINATED)\n",
        "+-----+--------------+------+------+-------------+--------+---------+------------+\n",
        "| ... |   batch_size |   l1 |   l2 |          lr |   iter |    loss |   accuracy |\n",
        "|-----+--------------+------+------+-------------+--------+---------+------------|\n",
        "| ... |            2 |    1 |  256 | 0.000668163 |      1 | 2.31479 |     0.0977 |\n",
        "| ... |            4 |   64 |    8 | 0.0331514   |      1 | 2.31605 |     0.0983 |\n",
        "| ... |            4 |    2 |    1 | 0.000150295 |      1 | 2.30755 |     0.1023 |\n",
        "| ... |           16 |   32 |   32 | 0.0128248   |     10 | 1.66912 |     0.4391 |\n",
        "| ... |            4 |    8 |  128 | 0.00464561  |      2 | 1.7316  |     0.3463 |\n",
        "| ... |            8 |  256 |    8 | 0.00031556  |      1 | 2.19409 |     0.1736 |\n",
        "| ... |            4 |   16 |  256 | 0.00574329  |      2 | 1.85679 |     0.3368 |\n",
        "| ... |            8 |    2 |    2 | 0.00325652  |      1 | 2.30272 |     0.0984 |\n",
        "| ... |            2 |    2 |    2 | 0.000342987 |      2 | 1.76044 |     0.292  |\n",
        "| ... |            4 |   64 |   32 | 0.003734    |      8 | 1.53101 |     0.4761 |\n",
        "+-----+--------------+------+------+-------------+--------+---------+------------+\n",
        "\n",
        "Best trial config: {'l1': 64, 'l2': 32, 'lr': 0.0037339984519545164, 'batch_size': 4}\n",
        "Best trial final validation loss: 1.5310075663924216\n",
        "Best trial final validation accuracy: 0.4761\n",
        "Best trial test set accuracy: 0.4737\n",
        "```\n",
        "\n",
        "Most trials have been stopped early in order to avoid wasting resources.\n",
        "The best performing trial achieved a validation accuracy of about 47%,\n",
        "which could be confirmed on the test set.\n",
        "\n",
        "So that\\'s it! You can now tune the parameters of your PyTorch models.\n"
      ]
    }
  ],
  "metadata": {
    "accelerator": "GPU",
    "colab": {
      "gpuType": "T4",
      "provenance": []
    },
    "kernelspec": {
      "display_name": "Python 3",
      "name": "python3"
    },
    "language_info": {
      "codemirror_mode": {
        "name": "ipython",
        "version": 3
      },
      "file_extension": ".py",
      "mimetype": "text/x-python",
      "name": "python",
      "nbconvert_exporter": "python",
      "pygments_lexer": "ipython3",
      "version": "3.10.12"
    }
  },
  "nbformat": 4,
  "nbformat_minor": 0
}
